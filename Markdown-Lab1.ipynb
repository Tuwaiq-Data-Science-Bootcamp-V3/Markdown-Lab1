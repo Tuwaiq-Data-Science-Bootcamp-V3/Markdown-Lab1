{
 "cells": [
  {
   "cell_type": "markdown",
   "id": "1457dc1d",
   "metadata": {},
   "source": [
    "# Data Science\n",
    "## What is Data Science?\n",
    "**Data Science** is a *multidisciplinary field* that combines statistics, computer science, and domain knowledge.\n",
    "![DS](https://github.com/abdulmalikm7/Markdown-Lab1/blob/main/DS.png?raw=true) \n",
    "### Data Types\n",
    "1. Structured Data\n",
    "2. semi_Structured Data\n",
    "3. UnStructured Data\n",
    "| Structured | Semi_Structured | UnStructured |\n",
    "| ----------- | ----------- | ---------------|\n",
    "| It is data that has been organized into a strict schema  | It is data that does not conform to a schema but has some structure. | It is data that has no schema. |\n",
    "| eg: tables | e.g: xml |  e.g: photos  |\n",
    "\n",
    "\n",
    "`Print (\"DS Bootcamp\")`\n",
    "\n",
    "[Read More](https://en.wikipedia.org/wiki/Data_science%E2%80%9D)"
   ]
  }
 ],
 "metadata": {
  "kernelspec": {
   "display_name": "Python 3 (ipykernel)",
   "language": "python",
   "name": "python3"
  },
  "language_info": {
   "codemirror_mode": {
    "name": "ipython",
    "version": 3
   },
   "file_extension": ".py",
   "mimetype": "text/x-python",
   "name": "python",
   "nbconvert_exporter": "python",
   "pygments_lexer": "ipython3",
   "version": "3.9.13"
  }
 },
 "nbformat": 4,
 "nbformat_minor": 5
}
